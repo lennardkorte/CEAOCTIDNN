{
  "cells": [
    {
      "cell_type": "markdown",
      "metadata": {
        "id": "W-L2P03FX6L1"
      },
      "source": [
        "Mount repository and create repo dir"
      ]
    },
    {
      "cell_type": "code",
      "execution_count": null,
      "metadata": {
        "colab": {
          "base_uri": "https://localhost:8080/"
        },
        "id": "GscvZwZfUcdA",
        "outputId": "1df15be7-4498-44ca-8eb1-30f3d405bf7a"
      },
      "outputs": [],
      "source": [
        "from google.colab import drive\n",
        "drive.mount('/content/drive')"
      ]
    },
    {
      "cell_type": "markdown",
      "metadata": {
        "id": "usMrm2E3eg1J"
      },
      "source": [
        "Create Colab directory if not existing"
      ]
    },
    {
      "cell_type": "code",
      "execution_count": 2,
      "metadata": {
        "id": "OfGafLc-eqFh"
      },
      "outputs": [],
      "source": [
        "from pathlib import Path\n",
        "Path(\"/content/drive/MyDrive/Colab Notebooks/\").mkdir(exist_ok=True)"
      ]
    },
    {
      "cell_type": "markdown",
      "metadata": {
        "id": "93IAfSiMdsVP"
      },
      "source": [
        "Go to Repository"
      ]
    },
    {
      "cell_type": "code",
      "execution_count": null,
      "metadata": {
        "colab": {
          "base_uri": "https://localhost:8080/"
        },
        "id": "pp3ttpFfW-gZ",
        "outputId": "e9b31fe9-c035-491e-96bb-59d0aadf6c79"
      },
      "outputs": [],
      "source": [
        "cd drive/MyDrive/Colab Notebooks/"
      ]
    },
    {
      "cell_type": "markdown",
      "metadata": {
        "id": "Pu5-1NeIO1Jo"
      },
      "source": [
        "Creates an ssh-rsa in Colab and stores it (Needed for GitHub Access)"
      ]
    },
    {
      "cell_type": "code",
      "execution_count": null,
      "metadata": {
        "colab": {
          "base_uri": "https://localhost:8080/"
        },
        "id": "uSbwRQCKImu-",
        "outputId": "776f6013-ef83-4d10-b78a-4e644254ed91"
      },
      "outputs": [],
      "source": [
        "!ssh-keygen -t rsa -b 4096 -f /root/.ssh/id_rsa -N ''\n",
        "!ssh-keyscan -t rsa github.com >> /root/.ssh/known_hosts\n",
        "!cat /root/.ssh/id_rsa.pub\n",
        "!ssh -T git@github.com"
      ]
    },
    {
      "cell_type": "markdown",
      "metadata": {
        "id": "niDz7e0dhY2t"
      },
      "source": [
        "Clones and accesses repository"
      ]
    },
    {
      "cell_type": "code",
      "execution_count": null,
      "metadata": {
        "colab": {
          "base_uri": "https://localhost:8080/"
        },
        "id": "VIMMpqrgD27E",
        "outputId": "a538a3d3-1be6-4586-8d14-b724f57948ff"
      },
      "outputs": [],
      "source": [
        "!git clone git@github.com:lennardkorte/IDDATDLOCT.git"
      ]
    },
    {
      "cell_type": "markdown",
      "metadata": {
        "id": "SuoguS3qlN0m"
      },
      "source": [
        "Access Repository"
      ]
    },
    {
      "cell_type": "code",
      "execution_count": null,
      "metadata": {
        "colab": {
          "base_uri": "https://localhost:8080/"
        },
        "id": "WDkjDfzqi5Oj",
        "outputId": "8d8b7d01-e362-4f76-9320-99294e74e7b8"
      },
      "outputs": [],
      "source": [
        "cd IDDATDLOCT/"
      ]
    },
    {
      "cell_type": "markdown",
      "metadata": {
        "id": "AJD7V1c_aQ9w"
      },
      "source": [
        "Update Repository"
      ]
    },
    {
      "cell_type": "code",
      "execution_count": null,
      "metadata": {
        "colab": {
          "base_uri": "https://localhost:8080/"
        },
        "id": "It7QV4WBXwDY",
        "outputId": "e9085eb8-3aca-4f18-f691-2dfff6ca1057"
      },
      "outputs": [],
      "source": [
        "!git pull"
      ]
    },
    {
      "cell_type": "markdown",
      "metadata": {
        "id": "IsKmU0LWlW1D"
      },
      "source": [
        "Show Repository"
      ]
    },
    {
      "cell_type": "code",
      "execution_count": null,
      "metadata": {
        "colab": {
          "base_uri": "https://localhost:8080/"
        },
        "id": "j06scxCKjaZl",
        "outputId": "1788263f-a55f-4127-a4ad-abf81e6705ed"
      },
      "outputs": [],
      "source": [
        "ls -a"
      ]
    },
    {
      "cell_type": "code",
      "execution_count": null,
      "metadata": {
        "colab": {
          "base_uri": "https://localhost:8080/",
          "height": 1000
        },
        "id": "sKCagNMIXgGZ",
        "outputId": "abf79f5f-8f50-4983-b006-2dd33c375c49"
      },
      "outputs": [],
      "source": [
        "pip install -r requirements.txt"
      ]
    },
    {
      "cell_type": "markdown",
      "metadata": {},
      "source": [
        "Run application!"
      ]
    },
    {
      "cell_type": "code",
      "execution_count": null,
      "metadata": {
        "colab": {
          "base_uri": "https://localhost:8080/"
        },
        "id": "Xxe_3m31XPLd",
        "outputId": "1309a981-3097-4b18-d0fd-645b9e81e2b0"
      },
      "outputs": [],
      "source": [
        "!bash exe/run_train_and_eval_local.sh"
      ]
    }
  ],
  "metadata": {
    "colab": {
      "collapsed_sections": [],
      "name": "colab setup (1).ipynb",
      "provenance": []
    },
    "kernelspec": {
      "display_name": "Python 3",
      "name": "python3"
    },
    "language_info": {
      "name": "python"
    }
  },
  "nbformat": 4,
  "nbformat_minor": 0
}
